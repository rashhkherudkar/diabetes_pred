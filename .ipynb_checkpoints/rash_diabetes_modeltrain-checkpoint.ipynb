{
 "cells": [
  {
   "cell_type": "code",
   "execution_count": 35,
   "id": "794dd361",
   "metadata": {},
   "outputs": [],
   "source": [
    "import numpy as np\n",
    "import pandas as pd\n",
    "\n",
    "from sklearn.linear_model import LogisticRegression\n",
    "from sklearn.model_selection import train_test_split\n",
    "\n",
    "from sklearn.metrics import confusion_matrix, classification_report, accuracy_score\n",
    "from sklearn.metrics import recall_score,precision_score, f1_score\n",
    "from sklearn.metrics import plot_confusion_matrix\n",
    "from sklearn.metrics import roc_curve\n",
    "\n",
    "import matplotlib.pyplot as plt\n",
    "import seaborn as sns\n",
    "\n",
    "import warnings\n",
    "warnings.filterwarnings(\"ignore\")"
   ]
  },
  {
   "cell_type": "code",
   "execution_count": 36,
   "id": "1df3ab1a",
   "metadata": {},
   "outputs": [
    {
     "data": {
      "text/html": [
       "<div>\n",
       "<style scoped>\n",
       "    .dataframe tbody tr th:only-of-type {\n",
       "        vertical-align: middle;\n",
       "    }\n",
       "\n",
       "    .dataframe tbody tr th {\n",
       "        vertical-align: top;\n",
       "    }\n",
       "\n",
       "    .dataframe thead th {\n",
       "        text-align: right;\n",
       "    }\n",
       "</style>\n",
       "<table border=\"1\" class=\"dataframe\">\n",
       "  <thead>\n",
       "    <tr style=\"text-align: right;\">\n",
       "      <th></th>\n",
       "      <th>Glucose</th>\n",
       "      <th>BloodPressure</th>\n",
       "      <th>SkinThickness</th>\n",
       "      <th>Insulin</th>\n",
       "      <th>BMI</th>\n",
       "      <th>DiabetesPedigreeFunction</th>\n",
       "      <th>Age</th>\n",
       "      <th>Outcome</th>\n",
       "    </tr>\n",
       "  </thead>\n",
       "  <tbody>\n",
       "    <tr>\n",
       "      <th>0</th>\n",
       "      <td>148</td>\n",
       "      <td>50</td>\n",
       "      <td>35</td>\n",
       "      <td>0</td>\n",
       "      <td>33.6</td>\n",
       "      <td>0.627</td>\n",
       "      <td>50</td>\n",
       "      <td>1</td>\n",
       "    </tr>\n",
       "    <tr>\n",
       "      <th>1</th>\n",
       "      <td>85</td>\n",
       "      <td>66</td>\n",
       "      <td>29</td>\n",
       "      <td>0</td>\n",
       "      <td>26.6</td>\n",
       "      <td>0.351</td>\n",
       "      <td>31</td>\n",
       "      <td>0</td>\n",
       "    </tr>\n",
       "    <tr>\n",
       "      <th>2</th>\n",
       "      <td>183</td>\n",
       "      <td>64</td>\n",
       "      <td>0</td>\n",
       "      <td>0</td>\n",
       "      <td>23.3</td>\n",
       "      <td>0.672</td>\n",
       "      <td>52</td>\n",
       "      <td>1</td>\n",
       "    </tr>\n",
       "    <tr>\n",
       "      <th>3</th>\n",
       "      <td>150</td>\n",
       "      <td>66</td>\n",
       "      <td>23</td>\n",
       "      <td>94</td>\n",
       "      <td>28.1</td>\n",
       "      <td>0.167</td>\n",
       "      <td>21</td>\n",
       "      <td>0</td>\n",
       "    </tr>\n",
       "    <tr>\n",
       "      <th>4</th>\n",
       "      <td>150</td>\n",
       "      <td>40</td>\n",
       "      <td>35</td>\n",
       "      <td>168</td>\n",
       "      <td>43.1</td>\n",
       "      <td>2.288</td>\n",
       "      <td>33</td>\n",
       "      <td>1</td>\n",
       "    </tr>\n",
       "    <tr>\n",
       "      <th>...</th>\n",
       "      <td>...</td>\n",
       "      <td>...</td>\n",
       "      <td>...</td>\n",
       "      <td>...</td>\n",
       "      <td>...</td>\n",
       "      <td>...</td>\n",
       "      <td>...</td>\n",
       "      <td>...</td>\n",
       "    </tr>\n",
       "    <tr>\n",
       "      <th>763</th>\n",
       "      <td>101</td>\n",
       "      <td>76</td>\n",
       "      <td>48</td>\n",
       "      <td>180</td>\n",
       "      <td>32.9</td>\n",
       "      <td>0.171</td>\n",
       "      <td>63</td>\n",
       "      <td>0</td>\n",
       "    </tr>\n",
       "    <tr>\n",
       "      <th>764</th>\n",
       "      <td>122</td>\n",
       "      <td>70</td>\n",
       "      <td>27</td>\n",
       "      <td>0</td>\n",
       "      <td>36.8</td>\n",
       "      <td>0.340</td>\n",
       "      <td>27</td>\n",
       "      <td>0</td>\n",
       "    </tr>\n",
       "    <tr>\n",
       "      <th>765</th>\n",
       "      <td>121</td>\n",
       "      <td>72</td>\n",
       "      <td>23</td>\n",
       "      <td>112</td>\n",
       "      <td>26.2</td>\n",
       "      <td>0.245</td>\n",
       "      <td>30</td>\n",
       "      <td>0</td>\n",
       "    </tr>\n",
       "    <tr>\n",
       "      <th>766</th>\n",
       "      <td>126</td>\n",
       "      <td>60</td>\n",
       "      <td>0</td>\n",
       "      <td>0</td>\n",
       "      <td>30.1</td>\n",
       "      <td>0.349</td>\n",
       "      <td>47</td>\n",
       "      <td>1</td>\n",
       "    </tr>\n",
       "    <tr>\n",
       "      <th>767</th>\n",
       "      <td>93</td>\n",
       "      <td>70</td>\n",
       "      <td>31</td>\n",
       "      <td>0</td>\n",
       "      <td>30.4</td>\n",
       "      <td>0.315</td>\n",
       "      <td>23</td>\n",
       "      <td>0</td>\n",
       "    </tr>\n",
       "  </tbody>\n",
       "</table>\n",
       "<p>768 rows × 8 columns</p>\n",
       "</div>"
      ],
      "text/plain": [
       "     Glucose  BloodPressure  SkinThickness  Insulin   BMI  \\\n",
       "0        148             50             35        0  33.6   \n",
       "1         85             66             29        0  26.6   \n",
       "2        183             64              0        0  23.3   \n",
       "3        150             66             23       94  28.1   \n",
       "4        150             40             35      168  43.1   \n",
       "..       ...            ...            ...      ...   ...   \n",
       "763      101             76             48      180  32.9   \n",
       "764      122             70             27        0  36.8   \n",
       "765      121             72             23      112  26.2   \n",
       "766      126             60              0        0  30.1   \n",
       "767       93             70             31        0  30.4   \n",
       "\n",
       "     DiabetesPedigreeFunction  Age  Outcome  \n",
       "0                       0.627   50        1  \n",
       "1                       0.351   31        0  \n",
       "2                       0.672   52        1  \n",
       "3                       0.167   21        0  \n",
       "4                       2.288   33        1  \n",
       "..                        ...  ...      ...  \n",
       "763                     0.171   63        0  \n",
       "764                     0.340   27        0  \n",
       "765                     0.245   30        0  \n",
       "766                     0.349   47        1  \n",
       "767                     0.315   23        0  \n",
       "\n",
       "[768 rows x 8 columns]"
      ]
     },
     "execution_count": 36,
     "metadata": {},
     "output_type": "execute_result"
    }
   ],
   "source": [
    "df=pd.read_csv(\"diabetes.csv\")\n",
    "df\n"
   ]
  },
  {
   "cell_type": "code",
   "execution_count": 37,
   "id": "81be6b79",
   "metadata": {},
   "outputs": [
    {
     "name": "stdout",
     "output_type": "stream",
     "text": [
      "<class 'pandas.core.frame.DataFrame'>\n",
      "RangeIndex: 768 entries, 0 to 767\n",
      "Data columns (total 8 columns):\n",
      " #   Column                    Non-Null Count  Dtype  \n",
      "---  ------                    --------------  -----  \n",
      " 0   Glucose                   768 non-null    int64  \n",
      " 1   BloodPressure             768 non-null    int64  \n",
      " 2   SkinThickness             768 non-null    int64  \n",
      " 3   Insulin                   768 non-null    int64  \n",
      " 4   BMI                       768 non-null    float64\n",
      " 5   DiabetesPedigreeFunction  768 non-null    float64\n",
      " 6   Age                       768 non-null    int64  \n",
      " 7   Outcome                   768 non-null    int64  \n",
      "dtypes: float64(2), int64(6)\n",
      "memory usage: 48.1 KB\n"
     ]
    }
   ],
   "source": [
    "df.info()"
   ]
  },
  {
   "cell_type": "code",
   "execution_count": 38,
   "id": "8dd836e3",
   "metadata": {},
   "outputs": [
    {
     "data": {
      "text/plain": [
       "0    500\n",
       "1    268\n",
       "Name: Outcome, dtype: int64"
      ]
     },
     "execution_count": 38,
     "metadata": {},
     "output_type": "execute_result"
    }
   ],
   "source": [
    "df['Outcome'].value_counts()   # imbalance data  # bais data"
   ]
  },
  {
   "cell_type": "code",
   "execution_count": 39,
   "id": "e2c168cc",
   "metadata": {},
   "outputs": [
    {
     "data": {
      "text/plain": [
       "<AxesSubplot:xlabel='Outcome', ylabel='count'>"
      ]
     },
     "execution_count": 39,
     "metadata": {},
     "output_type": "execute_result"
    },
    {
     "data": {
      "image/png": "[encoded data removed]",
      "text/plain": [
       "<Figure size 432x288 with 1 Axes>"
      ]
     },
     "metadata": {
      "needs_background": "light"
     },
     "output_type": "display_data"
    }
   ],
   "source": [
    "sns.countplot(x =df['Outcome'])"
   ]
  },
  {
   "cell_type": "code",
   "execution_count": 40,
   "id": "eaa754d7",
   "metadata": {},
   "outputs": [],
   "source": [
    "### Train-test split"
   ]
  },
  {
   "cell_type": "code",
   "execution_count": 41,
   "id": "12f4931e",
   "metadata": {},
   "outputs": [],
   "source": [
    "x=df.drop('Outcome', axis=1)\n",
    "y=df['Outcome']"
   ]
  },
  {
   "cell_type": "code",
   "execution_count": 42,
   "id": "2838feb9",
   "metadata": {},
   "outputs": [],
   "source": [
    "x_train, x_test, y_train,y_test =train_test_split(x,y, test_size=0.25, random_state=4, stratify=y)"
   ]
  },
  {
   "cell_type": "code",
   "execution_count": 43,
   "id": "df5be385",
   "metadata": {},
   "outputs": [
    {
     "data": {
      "text/plain": [
       "0    500\n",
       "1    268\n",
       "Name: Outcome, dtype: int64"
      ]
     },
     "execution_count": 43,
     "metadata": {},
     "output_type": "execute_result"
    }
   ],
   "source": [
    "y.value_counts()"
   ]
  },
  {
   "cell_type": "code",
   "execution_count": 44,
   "id": "4d68ac4e",
   "metadata": {},
   "outputs": [
    {
     "data": {
      "text/plain": [
       "0.6510416666666666"
      ]
     },
     "execution_count": 44,
     "metadata": {},
     "output_type": "execute_result"
    }
   ],
   "source": [
    "500/(500+268)"
   ]
  },
  {
   "cell_type": "code",
   "execution_count": 45,
   "id": "a408ae91",
   "metadata": {},
   "outputs": [
    {
     "data": {
      "text/plain": [
       "0    375\n",
       "1    201\n",
       "Name: Outcome, dtype: int64"
      ]
     },
     "execution_count": 45,
     "metadata": {},
     "output_type": "execute_result"
    }
   ],
   "source": [
    "y_train.value_counts()"
   ]
  },
  {
   "cell_type": "code",
   "execution_count": 46,
   "id": "ec31b20c",
   "metadata": {},
   "outputs": [
    {
     "data": {
      "text/plain": [
       "0.6545138888888888"
      ]
     },
     "execution_count": 46,
     "metadata": {},
     "output_type": "execute_result"
    }
   ],
   "source": [
    "# without stratify\n",
    "377/(377+199)"
   ]
  },
  {
   "cell_type": "code",
   "execution_count": 47,
   "id": "9f9ca5e1",
   "metadata": {},
   "outputs": [
    {
     "data": {
      "text/plain": [
       "0    125\n",
       "1     67\n",
       "Name: Outcome, dtype: int64"
      ]
     },
     "execution_count": 47,
     "metadata": {},
     "output_type": "execute_result"
    }
   ],
   "source": [
    "y_test.value_counts()"
   ]
  },
  {
   "cell_type": "code",
   "execution_count": 48,
   "id": "ac204990",
   "metadata": {},
   "outputs": [
    {
     "data": {
      "text/plain": [
       "0.6510416666666666"
      ]
     },
     "execution_count": 48,
     "metadata": {},
     "output_type": "execute_result"
    }
   ],
   "source": [
    "125/(125+67)"
   ]
  },
  {
   "cell_type": "code",
   "execution_count": null,
   "id": "5c0b6d63",
   "metadata": {},
   "outputs": [],
   "source": []
  },
  {
   "cell_type": "code",
   "execution_count": 49,
   "id": "eb9d3711",
   "metadata": {},
   "outputs": [
    {
     "data": {
      "text/plain": [
       "LogisticRegression()"
      ]
     },
     "execution_count": 49,
     "metadata": {},
     "output_type": "execute_result"
    }
   ],
   "source": [
    "# Create Instance\n",
    "model = LogisticRegression()\n",
    "model.fit(x_train, y_train)"
   ]
  },
  {
   "cell_type": "code",
   "execution_count": 50,
   "id": "1dbf1c8e",
   "metadata": {},
   "outputs": [
    {
     "data": {
      "text/plain": [
       "<sklearn.metrics._plot.confusion_matrix.ConfusionMatrixDisplay at 0x23e3336cd00>"
      ]
     },
     "execution_count": 50,
     "metadata": {},
     "output_type": "execute_result"
    },
    {
     "data": {
      "image/png": "[encoded data removed]",
      "text/plain": [
       "<Figure size 432x288 with 2 Axes>"
      ]
     },
     "metadata": {
      "needs_background": "light"
     },
     "output_type": "display_data"
    }
   ],
   "source": [
    "# Training Data\n",
    "plot_confusion_matrix(model, x_train, y_train)"
   ]
  },
  {
   "cell_type": "code",
   "execution_count": 51,
   "id": "7f51a062",
   "metadata": {},
   "outputs": [
    {
     "data": {
      "text/plain": [
       "<sklearn.metrics._plot.confusion_matrix.ConfusionMatrixDisplay at 0x23e3323fb20>"
      ]
     },
     "execution_count": 51,
     "metadata": {},
     "output_type": "execute_result"
    },
    {
     "data": {
      "image/png": "[encoded data removed]",
      "text/plain": [
       "<Figure size 432x288 with 2 Axes>"
      ]
     },
     "metadata": {
      "needs_background": "light"
     },
     "output_type": "display_data"
    }
   ],
   "source": [
    "# Training Data\n",
    "plot_confusion_matrix(model, x_test, y_test)"
   ]
  },
  {
   "cell_type": "code",
   "execution_count": 52,
   "id": "ac341f3b",
   "metadata": {},
   "outputs": [
    {
     "data": {
      "text/plain": [
       "0.7899305555555556"
      ]
     },
     "execution_count": 52,
     "metadata": {},
     "output_type": "execute_result"
    }
   ],
   "source": [
    "# Training Accuracy\n",
    "model.score(x_train, y_train)\n"
   ]
  },
  {
   "cell_type": "code",
   "execution_count": 53,
   "id": "6ea24705",
   "metadata": {},
   "outputs": [
    {
     "data": {
      "text/plain": [
       "0.7239583333333334"
      ]
     },
     "execution_count": 53,
     "metadata": {},
     "output_type": "execute_result"
    }
   ],
   "source": [
    "# Testing Accuracy\n",
    "model.score(x_test, y_test)"
   ]
  },
  {
   "cell_type": "code",
   "execution_count": 54,
   "id": "33d0044d",
   "metadata": {},
   "outputs": [],
   "source": [
    "# Model evaluation"
   ]
  },
  {
   "cell_type": "code",
   "execution_count": 55,
   "id": "d64a90e1",
   "metadata": {},
   "outputs": [
    {
     "data": {
      "text/plain": [
       "array([0, 1, 1, 0, 0, 0, 1, 0, 0, 0, 0, 0, 1, 1, 1, 0, 0, 1, 1, 0, 1, 0,\n",
       "       0, 0, 1, 1, 1, 1, 0, 0, 0, 0, 0, 0, 0, 0, 0, 1, 0, 0, 0, 1, 0, 0,\n",
       "       1, 0, 0, 1, 0, 1, 0, 0, 1, 1, 1, 0, 0, 1, 0, 1, 0, 0, 1, 0, 0, 0,\n",
       "       1, 0, 0, 0, 1, 0, 1, 0, 0, 0, 1, 0, 1, 0, 1, 1, 0, 0, 1, 1, 0, 1,\n",
       "       0, 1, 0, 1, 0, 0, 1, 0, 0, 0, 1, 0, 0, 0, 1, 0, 0, 0, 0, 0, 1, 1,\n",
       "       0, 1, 0, 1, 1, 1, 1, 1, 0, 0, 0, 0, 1, 1, 1, 0, 0, 1, 1, 0, 1, 0,\n",
       "       0, 0, 0, 0, 0, 0, 0, 1, 0, 0, 0, 0, 1, 0, 1, 1, 0, 1, 1, 0, 0, 0,\n",
       "       0, 0, 0, 1, 0, 0, 0, 0, 1, 0, 0, 0, 0, 0, 0, 0, 0, 0, 0, 0, 0, 0,\n",
       "       0, 0, 0, 0, 0, 0, 1, 0, 0, 1, 1, 0, 0, 0, 0, 0], dtype=int64)"
      ]
     },
     "execution_count": 55,
     "metadata": {},
     "output_type": "execute_result"
    }
   ],
   "source": [
    "# prediction\n",
    "y_pred = model.predict(x_test)\n",
    "y_pred"
   ]
  },
  {
   "cell_type": "code",
   "execution_count": 56,
   "id": "117f25a5",
   "metadata": {},
   "outputs": [
    {
     "data": {
      "text/plain": [
       "array([[0.86565786, 0.13434214],\n",
       "       [0.46687733, 0.53312267],\n",
       "       [0.07472521, 0.92527479],\n",
       "       [0.67619172, 0.32380828],\n",
       "       [0.54982451, 0.45017549],\n",
       "       [0.92002414, 0.07997586],\n",
       "       [0.34646354, 0.65353646],\n",
       "       [0.77447077, 0.22552923],\n",
       "       [0.85584805, 0.14415195],\n",
       "       [0.86660669, 0.13339331],\n",
       "       [0.68811955, 0.31188045],\n",
       "       [0.91134424, 0.08865576],\n",
       "       [0.40294556, 0.59705444],\n",
       "       [0.42093678, 0.57906322],\n",
       "       [0.3298768 , 0.6701232 ],\n",
       "       [0.6352212 , 0.3647788 ],\n",
       "       [0.81599753, 0.18400247],\n",
       "       [0.42406678, 0.57593322],\n",
       "       [0.22033654, 0.77966346],\n",
       "       [0.65773701, 0.34226299],\n",
       "       [0.48613378, 0.51386622],\n",
       "       [0.91748967, 0.08251033],\n",
       "       [0.92594459, 0.07405541],\n",
       "       [0.93909177, 0.06090823],\n",
       "       [0.09601211, 0.90398789],\n",
       "       [0.28533859, 0.71466141],\n",
       "       [0.4290519 , 0.5709481 ],\n",
       "       [0.31486971, 0.68513029],\n",
       "       [0.8848964 , 0.1151036 ],\n",
       "       [0.89344111, 0.10655889],\n",
       "       [0.61994939, 0.38005061],\n",
       "       [0.53454294, 0.46545706],\n",
       "       [0.93629112, 0.06370888],\n",
       "       [0.67974876, 0.32025124],\n",
       "       [0.88516982, 0.11483018],\n",
       "       [0.84500067, 0.15499933],\n",
       "       [0.86704969, 0.13295031],\n",
       "       [0.29735783, 0.70264217],\n",
       "       [0.95649268, 0.04350732],\n",
       "       [0.87286454, 0.12713546],\n",
       "       [0.93508091, 0.06491909],\n",
       "       [0.20255795, 0.79744205],\n",
       "       [0.54997801, 0.45002199],\n",
       "       [0.99529467, 0.00470533],\n",
       "       [0.26646293, 0.73353707],\n",
       "       [0.66812678, 0.33187322],\n",
       "       [0.65676831, 0.34323169],\n",
       "       [0.20882587, 0.79117413],\n",
       "       [0.86017951, 0.13982049],\n",
       "       [0.25335426, 0.74664574],\n",
       "       [0.95351978, 0.04648022],\n",
       "       [0.70513424, 0.29486576],\n",
       "       [0.06071911, 0.93928089],\n",
       "       [0.44836911, 0.55163089],\n",
       "       [0.45903425, 0.54096575],\n",
       "       [0.88469974, 0.11530026],\n",
       "       [0.7204597 , 0.2795403 ],\n",
       "       [0.07611138, 0.92388862],\n",
       "       [0.98187904, 0.01812096],\n",
       "       [0.33723959, 0.66276041],\n",
       "       [0.72621627, 0.27378373],\n",
       "       [0.95112972, 0.04887028],\n",
       "       [0.12092715, 0.87907285],\n",
       "       [0.87114883, 0.12885117],\n",
       "       [0.86291217, 0.13708783],\n",
       "       [0.77345499, 0.22654501],\n",
       "       [0.21539216, 0.78460784],\n",
       "       [0.86760835, 0.13239165],\n",
       "       [0.707282  , 0.292718  ],\n",
       "       [0.65944257, 0.34055743],\n",
       "       [0.29867372, 0.70132628],\n",
       "       [0.74329252, 0.25670748],\n",
       "       [0.24409196, 0.75590804],\n",
       "       [0.7599578 , 0.2400422 ],\n",
       "       [0.96086333, 0.03913667],\n",
       "       [0.62257258, 0.37742742],\n",
       "       [0.11684927, 0.88315073],\n",
       "       [0.54526681, 0.45473319],\n",
       "       [0.30016837, 0.69983163],\n",
       "       [0.83664721, 0.16335279],\n",
       "       [0.24402173, 0.75597827],\n",
       "       [0.10262566, 0.89737434],\n",
       "       [0.95736336, 0.04263664],\n",
       "       [0.726022  , 0.273978  ],\n",
       "       [0.41277109, 0.58722891],\n",
       "       [0.02831089, 0.97168911],\n",
       "       [0.65923558, 0.34076442],\n",
       "       [0.03462173, 0.96537827],\n",
       "       [0.82229405, 0.17770595],\n",
       "       [0.34723718, 0.65276282],\n",
       "       [0.91632733, 0.08367267],\n",
       "       [0.36982454, 0.63017546],\n",
       "       [0.80103405, 0.19896595],\n",
       "       [0.90037005, 0.09962995],\n",
       "       [0.43103294, 0.56896706],\n",
       "       [0.73354433, 0.26645567],\n",
       "       [0.78001629, 0.21998371],\n",
       "       [0.68051443, 0.31948557],\n",
       "       [0.2541461 , 0.7458539 ],\n",
       "       [0.60489064, 0.39510936],\n",
       "       [0.67942331, 0.32057669],\n",
       "       [0.96615239, 0.03384761],\n",
       "       [0.35929481, 0.64070519],\n",
       "       [0.53195344, 0.46804656],\n",
       "       [0.73823846, 0.26176154],\n",
       "       [0.90252042, 0.09747958],\n",
       "       [0.82799316, 0.17200684],\n",
       "       [0.74469854, 0.25530146],\n",
       "       [0.27620236, 0.72379764],\n",
       "       [0.44917293, 0.55082707],\n",
       "       [0.76719417, 0.23280583],\n",
       "       [0.47219063, 0.52780937],\n",
       "       [0.61713765, 0.38286235],\n",
       "       [0.43981659, 0.56018341],\n",
       "       [0.46614633, 0.53385367],\n",
       "       [0.06956879, 0.93043121],\n",
       "       [0.46979134, 0.53020866],\n",
       "       [0.46420323, 0.53579677],\n",
       "       [0.9607929 , 0.0392071 ],\n",
       "       [0.52585328, 0.47414672],\n",
       "       [0.65546629, 0.34453371],\n",
       "       [0.60736657, 0.39263343],\n",
       "       [0.19592184, 0.80407816],\n",
       "       [0.02563896, 0.97436104],\n",
       "       [0.25438223, 0.74561777],\n",
       "       [0.68105236, 0.31894764],\n",
       "       [0.73546892, 0.26453108],\n",
       "       [0.31604356, 0.68395644],\n",
       "       [0.41398167, 0.58601833],\n",
       "       [0.68745867, 0.31254133],\n",
       "       [0.4773675 , 0.5226325 ],\n",
       "       [0.93872105, 0.06127895],\n",
       "       [0.5340863 , 0.4659137 ],\n",
       "       [0.9605498 , 0.0394502 ],\n",
       "       [0.92882949, 0.07117051],\n",
       "       [0.82346661, 0.17653339],\n",
       "       [0.67587082, 0.32412918],\n",
       "       [0.67147181, 0.32852819],\n",
       "       [0.77724326, 0.22275674],\n",
       "       [0.07987266, 0.92012734],\n",
       "       [0.91954331, 0.08045669],\n",
       "       [0.77378887, 0.22621113],\n",
       "       [0.6210662 , 0.3789338 ],\n",
       "       [0.68325832, 0.31674168],\n",
       "       [0.18747878, 0.81252122],\n",
       "       [0.74088782, 0.25911218],\n",
       "       [0.26578426, 0.73421574],\n",
       "       [0.46477582, 0.53522418],\n",
       "       [0.86542509, 0.13457491],\n",
       "       [0.39704424, 0.60295576],\n",
       "       [0.39489707, 0.60510293],\n",
       "       [0.60562885, 0.39437115],\n",
       "       [0.78683659, 0.21316341],\n",
       "       [0.71413816, 0.28586184],\n",
       "       [0.85819619, 0.14180381],\n",
       "       [0.8442776 , 0.1557224 ],\n",
       "       [0.91061242, 0.08938758],\n",
       "       [0.14334534, 0.85665466],\n",
       "       [0.94890868, 0.05109132],\n",
       "       [0.88828012, 0.11171988],\n",
       "       [0.91036305, 0.08963695],\n",
       "       [0.63466829, 0.36533171],\n",
       "       [0.33614987, 0.66385013],\n",
       "       [0.78678374, 0.21321626],\n",
       "       [0.5496904 , 0.4503096 ],\n",
       "       [0.83813069, 0.16186931],\n",
       "       [0.90293276, 0.09706724],\n",
       "       [0.87723967, 0.12276033],\n",
       "       [0.72490094, 0.27509906],\n",
       "       [0.70896556, 0.29103444],\n",
       "       [0.86574577, 0.13425423],\n",
       "       [0.64750471, 0.35249529],\n",
       "       [0.7583797 , 0.2416203 ],\n",
       "       [0.84153399, 0.15846601],\n",
       "       [0.93527764, 0.06472236],\n",
       "       [0.78441588, 0.21558412],\n",
       "       [0.71479684, 0.28520316],\n",
       "       [0.76393966, 0.23606034],\n",
       "       [0.90301474, 0.09698526],\n",
       "       [0.79022295, 0.20977705],\n",
       "       [0.8919468 , 0.1080532 ],\n",
       "       [0.5533133 , 0.4466867 ],\n",
       "       [0.3586787 , 0.6413213 ],\n",
       "       [0.64674549, 0.35325451],\n",
       "       [0.70599587, 0.29400413],\n",
       "       [0.15711127, 0.84288873],\n",
       "       [0.16634909, 0.83365091],\n",
       "       [0.90222442, 0.09777558],\n",
       "       [0.91251051, 0.08748949],\n",
       "       [0.62294479, 0.37705521],\n",
       "       [0.66311681, 0.33688319],\n",
       "       [0.91579791, 0.08420209]])"
      ]
     },
     "execution_count": 56,
     "metadata": {},
     "output_type": "execute_result"
    }
   ],
   "source": [
    "y_pred_proba = model.predict_proba(x_test)\n",
    "y_pred_proba"
   ]
  },
  {
   "cell_type": "raw",
   "id": "891d5084",
   "metadata": {},
   "source": [
    "# First 5 class probability, threshold value = 0.5 (bydefault)\n",
    "[    0            1    ]\n",
    "[0.86565786, 0.13434214],>> 0\n",
    "[0.46687733, 0.53312267],>> 1\n",
    "[0.07472521, 0.92527479],>> 1\n",
    "[0.67619172, 0.32380828],>> 0\n",
    "[0.54982451, 0.45017549],>> 0"
   ]
  },
  {
   "cell_type": "code",
   "execution_count": 57,
   "id": "7c9d9a4c",
   "metadata": {},
   "outputs": [
    {
     "name": "stdout",
     "output_type": "stream",
     "text": [
      "Confusion Matrix:\n",
      " [[100  25]\n",
      " [ 28  39]]\n",
      "*********************************************\n",
      "Accuracy Score: 0.7239583333333334\n",
      "*********************************************\n",
      "Classification report:\n",
      "               precision    recall  f1-score   support\n",
      "\n",
      "           0       0.78      0.80      0.79       125\n",
      "           1       0.61      0.58      0.60        67\n",
      "\n",
      "    accuracy                           0.72       192\n",
      "   macro avg       0.70      0.69      0.69       192\n",
      "weighted avg       0.72      0.72      0.72       192\n",
      "\n"
     ]
    }
   ],
   "source": [
    "# Testing data\n",
    "cnf_matrix = confusion_matrix(y_test, y_pred)\n",
    "print(\"Confusion Matrix:\\n\",cnf_matrix)\n",
    "\n",
    "print(\"*\"*45)\n",
    "accuracy = accuracy_score(y_test, y_pred)\n",
    "print(\"Accuracy Score:\",accuracy)\n",
    "print(\"*\"*45)\n",
    "\n",
    "clf_report = classification_report(y_test, y_pred)\n",
    "print(\"Classification report:\\n\",clf_report)"
   ]
  },
  {
   "cell_type": "code",
   "execution_count": 58,
   "id": "5f4c3420",
   "metadata": {},
   "outputs": [
    {
     "name": "stdout",
     "output_type": "stream",
     "text": [
      "Confusion Matrix:\n",
      " [[334  41]\n",
      " [ 80 121]]\n",
      "*********************************************\n",
      "Accuracy Score: 0.7899305555555556\n",
      "*********************************************\n",
      "Classification report:\n",
      "               precision    recall  f1-score   support\n",
      "\n",
      "           0       0.81      0.89      0.85       375\n",
      "           1       0.75      0.60      0.67       201\n",
      "\n",
      "    accuracy                           0.79       576\n",
      "   macro avg       0.78      0.75      0.76       576\n",
      "weighted avg       0.79      0.79      0.78       576\n",
      "\n"
     ]
    }
   ],
   "source": [
    "# Training data\n",
    "\n",
    "# prediction\n",
    "y_pred_train = model.predict(x_train)\n",
    "\n",
    "cnf_matrix = confusion_matrix(y_train, y_pred_train)\n",
    "print(\"Confusion Matrix:\\n\",cnf_matrix)\n",
    "\n",
    "# Visualization\n",
    "\n",
    "print(\"*\"*45)\n",
    "accuracy = accuracy_score(y_train, y_pred_train)\n",
    "print(\"Accuracy Score:\",accuracy)\n",
    "print(\"*\"*45)\n",
    "\n",
    "clf_report = classification_report(y_train, y_pred_train)\n",
    "print(\"Classification report:\\n\",clf_report)"
   ]
  },
  {
   "cell_type": "code",
   "execution_count": null,
   "id": "5903a9fb",
   "metadata": {},
   "outputs": [],
   "source": []
  },
  {
   "cell_type": "code",
   "execution_count": null,
   "id": "47e0bb03",
   "metadata": {},
   "outputs": [],
   "source": []
  },
  {
   "cell_type": "code",
   "execution_count": null,
   "id": "e5c785de",
   "metadata": {},
   "outputs": [],
   "source": []
  },
  {
   "cell_type": "code",
   "execution_count": null,
   "id": "083c4f10",
   "metadata": {},
   "outputs": [],
   "source": []
  },
  {
   "cell_type": "code",
   "execution_count": null,
   "id": "2bd819db",
   "metadata": {},
   "outputs": [],
   "source": []
  },
  {
   "cell_type": "code",
   "execution_count": null,
   "id": "ebbc847e",
   "metadata": {},
   "outputs": [],
   "source": []
  },
  {
   "cell_type": "code",
   "execution_count": null,
   "id": "f1f63cd2",
   "metadata": {},
   "outputs": [],
   "source": []
  },
  {
   "cell_type": "code",
   "execution_count": null,
   "id": "9b1affb7",
   "metadata": {},
   "outputs": [],
   "source": []
  },
  {
   "cell_type": "code",
   "execution_count": null,
   "id": "544b0726",
   "metadata": {},
   "outputs": [],
   "source": []
  },
  {
   "cell_type": "code",
   "execution_count": null,
   "id": "0e5412dc",
   "metadata": {},
   "outputs": [],
   "source": []
  },
  {
   "cell_type": "code",
   "execution_count": null,
   "id": "026c7dd1",
   "metadata": {},
   "outputs": [],
   "source": []
  },
  {
   "cell_type": "code",
   "execution_count": null,
   "id": "a9bfc648",
   "metadata": {},
   "outputs": [],
   "source": []
  },
  {
   "cell_type": "code",
   "execution_count": null,
   "id": "13143932",
   "metadata": {},
   "outputs": [],
   "source": []
  },
  {
   "cell_type": "code",
   "execution_count": null,
   "id": "db731c1f",
   "metadata": {},
   "outputs": [],
   "source": []
  },
  {
   "cell_type": "code",
   "execution_count": null,
   "id": "6434e297",
   "metadata": {},
   "outputs": [],
   "source": []
  },
  {
   "cell_type": "code",
   "execution_count": null,
   "id": "f6d57df4",
   "metadata": {},
   "outputs": [],
   "source": []
  },
  {
   "cell_type": "code",
   "execution_count": null,
   "id": "70047fae",
   "metadata": {},
   "outputs": [],
   "source": []
  },
  {
   "cell_type": "code",
   "execution_count": null,
   "id": "69309f94",
   "metadata": {},
   "outputs": [],
   "source": []
  }
 ],
 "metadata": {
  "kernelspec": {
   "display_name": "Python 3 (ipykernel)",
   "language": "python",
   "name": "python3"
  },
  "language_info": {
   "codemirror_mode": {
    "name": "ipython",
    "version": 3
   },
   "file_extension": ".py",
   "mimetype": "text/x-python",
   "name": "python",
   "nbconvert_exporter": "python",
   "pygments_lexer": "ipython3",
   "version": "3.9.12"
  }
 },
 "nbformat": 4,
 "nbformat_minor": 5
}
